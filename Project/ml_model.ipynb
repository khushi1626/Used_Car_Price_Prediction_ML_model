{
 "cells": [
  {
   "cell_type": "code",
   "execution_count": 1,
   "metadata": {},
   "outputs": [],
   "source": [
    "import numpy as np\n",
    "import pandas as pd\n",
    "import seaborn as sn\n",
    "import matplotlib.pyplot as plt"
   ]
  },
  {
   "cell_type": "code",
   "execution_count": 6,
   "metadata": {},
   "outputs": [],
   "source": [
    "df = pd.read_csv(\"clean_train_data.csv\")\n",
    "#test_data = pd.read_csv(\"clean_test_data.csv\")"
   ]
  },
  {
   "cell_type": "code",
   "execution_count": 10,
   "metadata": {},
   "outputs": [],
   "source": [
    "del df['Unnamed: 0']"
   ]
  },
  {
   "cell_type": "code",
   "execution_count": 11,
   "metadata": {},
   "outputs": [
    {
     "data": {
      "text/html": [
       "<div>\n",
       "<style scoped>\n",
       "    .dataframe tbody tr th:only-of-type {\n",
       "        vertical-align: middle;\n",
       "    }\n",
       "\n",
       "    .dataframe tbody tr th {\n",
       "        vertical-align: top;\n",
       "    }\n",
       "\n",
       "    .dataframe thead th {\n",
       "        text-align: right;\n",
       "    }\n",
       "</style>\n",
       "<table border=\"1\" class=\"dataframe\">\n",
       "  <thead>\n",
       "    <tr style=\"text-align: right;\">\n",
       "      <th></th>\n",
       "      <th>Year</th>\n",
       "      <th>Kilometers_Driven</th>\n",
       "      <th>Seats</th>\n",
       "      <th>Mileage_int</th>\n",
       "      <th>Engine_int</th>\n",
       "      <th>Power_int</th>\n",
       "      <th>Location_Ahmedabad</th>\n",
       "      <th>Location_Bangalore</th>\n",
       "      <th>Location_Chennai</th>\n",
       "      <th>Location_Coimbatore</th>\n",
       "      <th>...</th>\n",
       "      <th>Model_X1</th>\n",
       "      <th>Model_X5</th>\n",
       "      <th>Model_XUV500</th>\n",
       "      <th>Model_Xcent</th>\n",
       "      <th>Model_Xylo</th>\n",
       "      <th>Model_Zen</th>\n",
       "      <th>Model_Zest</th>\n",
       "      <th>Model_i10</th>\n",
       "      <th>Model_i20</th>\n",
       "      <th>Price_int</th>\n",
       "    </tr>\n",
       "  </thead>\n",
       "  <tbody>\n",
       "    <tr>\n",
       "      <th>0</th>\n",
       "      <td>2010</td>\n",
       "      <td>72000</td>\n",
       "      <td>5.0</td>\n",
       "      <td>26.60</td>\n",
       "      <td>998.0</td>\n",
       "      <td>58.16</td>\n",
       "      <td>0</td>\n",
       "      <td>0</td>\n",
       "      <td>0</td>\n",
       "      <td>0</td>\n",
       "      <td>...</td>\n",
       "      <td>0</td>\n",
       "      <td>0</td>\n",
       "      <td>0</td>\n",
       "      <td>0</td>\n",
       "      <td>0</td>\n",
       "      <td>0</td>\n",
       "      <td>0</td>\n",
       "      <td>0</td>\n",
       "      <td>0</td>\n",
       "      <td>1.75</td>\n",
       "    </tr>\n",
       "    <tr>\n",
       "      <th>1</th>\n",
       "      <td>2015</td>\n",
       "      <td>41000</td>\n",
       "      <td>5.0</td>\n",
       "      <td>19.67</td>\n",
       "      <td>1582.0</td>\n",
       "      <td>126.20</td>\n",
       "      <td>0</td>\n",
       "      <td>0</td>\n",
       "      <td>0</td>\n",
       "      <td>0</td>\n",
       "      <td>...</td>\n",
       "      <td>0</td>\n",
       "      <td>0</td>\n",
       "      <td>0</td>\n",
       "      <td>0</td>\n",
       "      <td>0</td>\n",
       "      <td>0</td>\n",
       "      <td>0</td>\n",
       "      <td>0</td>\n",
       "      <td>0</td>\n",
       "      <td>12.50</td>\n",
       "    </tr>\n",
       "    <tr>\n",
       "      <th>2</th>\n",
       "      <td>2011</td>\n",
       "      <td>46000</td>\n",
       "      <td>5.0</td>\n",
       "      <td>18.20</td>\n",
       "      <td>1199.0</td>\n",
       "      <td>88.70</td>\n",
       "      <td>0</td>\n",
       "      <td>0</td>\n",
       "      <td>1</td>\n",
       "      <td>0</td>\n",
       "      <td>...</td>\n",
       "      <td>0</td>\n",
       "      <td>0</td>\n",
       "      <td>0</td>\n",
       "      <td>0</td>\n",
       "      <td>0</td>\n",
       "      <td>0</td>\n",
       "      <td>0</td>\n",
       "      <td>0</td>\n",
       "      <td>0</td>\n",
       "      <td>4.50</td>\n",
       "    </tr>\n",
       "    <tr>\n",
       "      <th>3</th>\n",
       "      <td>2012</td>\n",
       "      <td>87000</td>\n",
       "      <td>7.0</td>\n",
       "      <td>20.77</td>\n",
       "      <td>1248.0</td>\n",
       "      <td>88.76</td>\n",
       "      <td>0</td>\n",
       "      <td>0</td>\n",
       "      <td>1</td>\n",
       "      <td>0</td>\n",
       "      <td>...</td>\n",
       "      <td>0</td>\n",
       "      <td>0</td>\n",
       "      <td>0</td>\n",
       "      <td>0</td>\n",
       "      <td>0</td>\n",
       "      <td>0</td>\n",
       "      <td>0</td>\n",
       "      <td>0</td>\n",
       "      <td>0</td>\n",
       "      <td>6.00</td>\n",
       "    </tr>\n",
       "    <tr>\n",
       "      <th>4</th>\n",
       "      <td>2013</td>\n",
       "      <td>40670</td>\n",
       "      <td>5.0</td>\n",
       "      <td>15.20</td>\n",
       "      <td>1968.0</td>\n",
       "      <td>140.80</td>\n",
       "      <td>0</td>\n",
       "      <td>0</td>\n",
       "      <td>0</td>\n",
       "      <td>1</td>\n",
       "      <td>...</td>\n",
       "      <td>0</td>\n",
       "      <td>0</td>\n",
       "      <td>0</td>\n",
       "      <td>0</td>\n",
       "      <td>0</td>\n",
       "      <td>0</td>\n",
       "      <td>0</td>\n",
       "      <td>0</td>\n",
       "      <td>0</td>\n",
       "      <td>17.74</td>\n",
       "    </tr>\n",
       "  </tbody>\n",
       "</table>\n",
       "<p>5 rows × 114 columns</p>\n",
       "</div>"
      ],
      "text/plain": [
       "   Year  Kilometers_Driven  Seats  Mileage_int  Engine_int  Power_int  \\\n",
       "0  2010              72000    5.0        26.60       998.0      58.16   \n",
       "1  2015              41000    5.0        19.67      1582.0     126.20   \n",
       "2  2011              46000    5.0        18.20      1199.0      88.70   \n",
       "3  2012              87000    7.0        20.77      1248.0      88.76   \n",
       "4  2013              40670    5.0        15.20      1968.0     140.80   \n",
       "\n",
       "   Location_Ahmedabad  Location_Bangalore  Location_Chennai  \\\n",
       "0                   0                   0                 0   \n",
       "1                   0                   0                 0   \n",
       "2                   0                   0                 1   \n",
       "3                   0                   0                 1   \n",
       "4                   0                   0                 0   \n",
       "\n",
       "   Location_Coimbatore  ...  Model_X1  Model_X5  Model_XUV500  Model_Xcent  \\\n",
       "0                    0  ...         0         0             0            0   \n",
       "1                    0  ...         0         0             0            0   \n",
       "2                    0  ...         0         0             0            0   \n",
       "3                    0  ...         0         0             0            0   \n",
       "4                    1  ...         0         0             0            0   \n",
       "\n",
       "   Model_Xylo  Model_Zen  Model_Zest  Model_i10  Model_i20  Price_int  \n",
       "0           0          0           0          0          0       1.75  \n",
       "1           0          0           0          0          0      12.50  \n",
       "2           0          0           0          0          0       4.50  \n",
       "3           0          0           0          0          0       6.00  \n",
       "4           0          0           0          0          0      17.74  \n",
       "\n",
       "[5 rows x 114 columns]"
      ]
     },
     "execution_count": 11,
     "metadata": {},
     "output_type": "execute_result"
    }
   ],
   "source": [
    "df.head()"
   ]
  },
  {
   "cell_type": "code",
   "execution_count": 7,
   "metadata": {},
   "outputs": [],
   "source": [
    "from sklearn.model_selection import train_test_split"
   ]
  },
  {
   "cell_type": "code",
   "execution_count": 19,
   "metadata": {},
   "outputs": [
    {
     "data": {
      "text/plain": [
       "((5060, 113), (5060,))"
      ]
     },
     "execution_count": 19,
     "metadata": {},
     "output_type": "execute_result"
    }
   ],
   "source": [
    "x = df.drop(\"Price_int\",axis=1)\n",
    "y = df['Price_int']\n",
    "x.shape,y.shape"
   ]
  },
  {
   "cell_type": "code",
   "execution_count": 20,
   "metadata": {},
   "outputs": [],
   "source": [
    "x_train , x_test , y_train , y_test = train_test_split(x,y,test_size=0.2,random_state=51)"
   ]
  },
  {
   "cell_type": "code",
   "execution_count": 21,
   "metadata": {},
   "outputs": [],
   "source": [
    "from sklearn.preprocessing import StandardScaler\n",
    "sc = StandardScaler()\n",
    "\n",
    "q = sc.fit(x_train)\n",
    "x_train = sc.transform(x_train)\n",
    "x_test = sc.transform(x_test)"
   ]
  },
  {
   "cell_type": "markdown",
   "metadata": {},
   "source": [
    "Linear Regression"
   ]
  },
  {
   "cell_type": "code",
   "execution_count": 22,
   "metadata": {},
   "outputs": [],
   "source": [
    "from sklearn.linear_model import LinearRegression\n",
    "from sklearn.linear_model import Lasso\n",
    "from sklearn.linear_model import Ridge\n",
    "from sklearn.metrics import mean_squared_error\n",
    "from sklearn.metrics import r2_score"
   ]
  },
  {
   "cell_type": "code",
   "execution_count": 23,
   "metadata": {},
   "outputs": [],
   "source": [
    "lr = LinearRegression()\n",
    "lasso = Lasso()\n",
    "ridge = Ridge()"
   ]
  },
  {
   "cell_type": "code",
   "execution_count": 36,
   "metadata": {},
   "outputs": [],
   "source": [
    "def rmse(x_test,y_pred):\n",
    "    return np.sqrt(mean_squared_error(x_test,y_pred))"
   ]
  },
  {
   "cell_type": "code",
   "execution_count": 33,
   "metadata": {},
   "outputs": [
    {
     "data": {
      "text/plain": [
       "(0.8341631554770567, 0.8261853916449786)"
      ]
     },
     "execution_count": 33,
     "metadata": {},
     "output_type": "execute_result"
    }
   ],
   "source": [
    "lr.fit(x_train,y_train)\n",
    "y_train_pred = lr.predict(x_train)\n",
    "y_test_pred = lr.predict(x_test)\n",
    "\n",
    "lr_score_train = lr.score(x_test,y_test)\n",
    "lr_score_test = lr.score(x_train,y_train)\n",
    "lr_score_train,lr_score_test"
   ]
  },
  {
   "cell_type": "code",
   "execution_count": 37,
   "metadata": {},
   "outputs": [
    {
     "data": {
      "text/plain": [
       "3.514053372044289"
      ]
     },
     "execution_count": 37,
     "metadata": {},
     "output_type": "execute_result"
    }
   ],
   "source": [
    "rmse(y_test,y_test_pred)"
   ]
  },
  {
   "cell_type": "code",
   "execution_count": 38,
   "metadata": {},
   "outputs": [
    {
     "data": {
      "text/plain": [
       "3.9315858067820457"
      ]
     },
     "execution_count": 38,
     "metadata": {},
     "output_type": "execute_result"
    }
   ],
   "source": [
    "rmse(y_train,y_train_pred)"
   ]
  },
  {
   "cell_type": "code",
   "execution_count": 40,
   "metadata": {},
   "outputs": [
    {
     "name": "stdout",
     "output_type": "stream",
     "text": [
      "Train data r2 Score: 0.7052686761812421\n",
      "Test data r2 Score: 0.711529155789252\n",
      "Error: 4.634669856702309\n",
      "Error: 5.119620493762692\n"
     ]
    }
   ],
   "source": [
    "lasso.fit(x_train,y_train)\n",
    "y_train_pred_lasso = lasso.predict(x_train)\n",
    "y_test_pred_lasso = lasso.predict(x_test)\n",
    "\n",
    "print(\"Train data r2 Score:\",r2_score(y_train,y_train_pred_lasso))\n",
    "print(\"Test data r2 Score:\",r2_score(y_test,y_test_pred_lasso))\n",
    "print(\"Error:\",rmse(y_test,y_test_pred_lasso))\n",
    "print(\"Error:\",rmse(y_train,y_train_pred_lasso))"
   ]
  },
  {
   "cell_type": "code",
   "execution_count": 41,
   "metadata": {},
   "outputs": [
    {
     "name": "stdout",
     "output_type": "stream",
     "text": [
      "Train data r2 Score: 0.7052686761812421\n",
      "Test data r2 Score: 0.711529155789252\n",
      "Error: 4.634669856702309\n",
      "Error: 5.119620493762692\n"
     ]
    }
   ],
   "source": [
    "ridge.fit(x_train,y_train)\n",
    "y_train_pred_ridge = lasso.predict(x_train)\n",
    "y_test_pred_ridge = lasso.predict(x_test)\n",
    "\n",
    "print(\"Train data r2 Score:\",r2_score(y_train,y_train_pred_ridge))\n",
    "print(\"Test data r2 Score:\",r2_score(y_test,y_test_pred_ridge))\n",
    "print(\"Error:\",rmse(y_test,y_test_pred_ridge))\n",
    "print(\"Error:\",rmse(y_train,y_train_pred_ridge))"
   ]
  },
  {
   "cell_type": "markdown",
   "metadata": {},
   "source": [
    "Support Vector Machine"
   ]
  },
  {
   "cell_type": "code",
   "execution_count": 42,
   "metadata": {},
   "outputs": [
    {
     "data": {
      "text/plain": [
       "SVR()"
      ]
     },
     "execution_count": 42,
     "metadata": {},
     "output_type": "execute_result"
    }
   ],
   "source": [
    "from sklearn.svm import SVR\n",
    "svr = SVR()\n",
    "svr.fit(x_train,y_train)"
   ]
  },
  {
   "cell_type": "code",
   "execution_count": 43,
   "metadata": {},
   "outputs": [
    {
     "name": "stdout",
     "output_type": "stream",
     "text": [
      "Train data r2 Score: 0.6990838603509133\n",
      "Test data r2 Score: 0.7461081877194065\n",
      "Error: 4.348026560393143\n",
      "Error: 5.17305817441617\n"
     ]
    }
   ],
   "source": [
    "y_train_pred_svm = svr.predict(x_train)\n",
    "y_test_pred_svm = svr.predict(x_test)\n",
    "print(\"Train data r2 Score:\",r2_score(y_train,y_train_pred_svm))\n",
    "print(\"Test data r2 Score:\",r2_score(y_test,y_test_pred_svm))\n",
    "print(\"Error:\",rmse(y_test,y_test_pred_svm))\n",
    "print(\"Error:\",rmse(y_train,y_train_pred_svm))"
   ]
  },
  {
   "cell_type": "markdown",
   "metadata": {},
   "source": [
    "Random Forest Regressor"
   ]
  },
  {
   "cell_type": "code",
   "execution_count": 44,
   "metadata": {},
   "outputs": [],
   "source": [
    "from sklearn.ensemble import RandomForestRegressor"
   ]
  },
  {
   "cell_type": "code",
   "execution_count": 46,
   "metadata": {},
   "outputs": [
    {
     "name": "stdout",
     "output_type": "stream",
     "text": [
      "Train data r2 Score: 0.9909215512405909\n",
      "Test data r2 Score: 0.9472396345682884\n",
      "Error: 1.98208254974543\n",
      "Error: 0.8985255786020405\n"
     ]
    }
   ],
   "source": [
    "rfr = RandomForestRegressor()\n",
    "rfr.fit(x_train,y_train)\n",
    "\n",
    "y_train_pred_rfr = rfr.predict(x_train)\n",
    "y_test_pred_rfr = rfr.predict(x_test)\n",
    "\n",
    "print(\"Train data r2 Score:\",r2_score(y_train,y_train_pred_rfr))\n",
    "print(\"Test data r2 Score:\",r2_score(y_test,y_test_pred_rfr))\n",
    "print(\"Error:\",rmse(y_test,y_test_pred_rfr))\n",
    "print(\"Error:\",rmse(y_train,y_train_pred_rfr))"
   ]
  },
  {
   "cell_type": "code",
   "execution_count": 47,
   "metadata": {},
   "outputs": [
    {
     "data": {
      "text/plain": [
       "['usedcar_ml_model.pkl']"
      ]
     },
     "execution_count": 47,
     "metadata": {},
     "output_type": "execute_result"
    }
   ],
   "source": [
    "import joblib\n",
    "joblib.dump(rfr,'usedcar_ml_model.pkl')"
   ]
  },
  {
   "cell_type": "code",
   "execution_count": null,
   "metadata": {},
   "outputs": [],
   "source": []
  }
 ],
 "metadata": {
  "interpreter": {
   "hash": "f7b0c5a7eb71e7e02f4635c8b85de66b6a8991a452dfaab548f67ac0b794aaea"
  },
  "kernelspec": {
   "display_name": "Python 3.9.6 64-bit",
   "language": "python",
   "name": "python3"
  },
  "language_info": {
   "codemirror_mode": {
    "name": "ipython",
    "version": 3
   },
   "file_extension": ".py",
   "mimetype": "text/x-python",
   "name": "python",
   "nbconvert_exporter": "python",
   "pygments_lexer": "ipython3",
   "version": "3.9.6"
  },
  "orig_nbformat": 4
 },
 "nbformat": 4,
 "nbformat_minor": 2
}
